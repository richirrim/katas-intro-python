{
 "cells": [
  {
   "cell_type": "markdown",
   "metadata": {},
   "source": [
    "# Fecha actual\n",
    "\n",
    "Programa que muestra la fecha actual."
   ]
  },
  {
   "cell_type": "code",
   "execution_count": 1,
   "metadata": {},
   "outputs": [
    {
     "name": "stdout",
     "output_type": "stream",
     "text": [
      "Fecha actual, panita: 2022-02-08\n"
     ]
    }
   ],
   "source": [
    "from datetime import date\n",
    "\n",
    "print('Fecha actual, panita: ' + str(date.today()))"
   ]
  },
  {
   "cell_type": "markdown",
   "metadata": {},
   "source": [
    "## Construir un convertidor de unidades"
   ]
  },
  {
   "cell_type": "code",
   "execution_count": 3,
   "metadata": {},
   "outputs": [
    {
     "name": "stdout",
     "output_type": "stream",
     "text": [
      "11 parsec, is 35.88 lightyears\n"
     ]
    }
   ],
   "source": [
    "parsec = 11\n",
    "\n",
    "light_years = round(parsec * 3.26156, 2)\n",
    "\n",
    "print(str(parsec) + ' parsec, is ' + str(light_years) + ' lightyears')"
   ]
  },
  {
   "cell_type": "markdown",
   "metadata": {},
   "source": [
    "### Dejando volar mi creatividad"
   ]
  },
  {
   "cell_type": "code",
   "execution_count": 8,
   "metadata": {},
   "outputs": [
    {
     "name": "stdout",
     "output_type": "stream",
     "text": [
      "Ingrese solo números, enteros y positivos.\n",
      "11 parsecs son 35.88 años luz.\n"
     ]
    }
   ],
   "source": [
    "parsec = input('Ingresa la cantidad de parsecs: ')\n",
    "\n",
    "while parsec.isdigit() != True:\n",
    "    print('Ingrese solo números, enteros y positivos.')\n",
    "    parsec = input('Ingresa la cantidad de parsecs: ')\n",
    "\n",
    "parsec = abs(int(parsec)) # Si es nagativo lo pasa a su valor obsoluto.\n",
    "light_years = round(parsec * 3.26156, 2)\n",
    "print(f'{parsec} parsecs son {light_years} años luz.')"
   ]
  }
 ],
 "metadata": {
  "interpreter": {
   "hash": "090873520ddd6f2229e6e813a562003f0c08106223b8ccfbf9a1dde699f8c00f"
  },
  "kernelspec": {
   "display_name": "Python 3.9.10 64-bit (windows store)",
   "language": "python",
   "name": "python3"
  },
  "language_info": {
   "codemirror_mode": {
    "name": "ipython",
    "version": 3
   },
   "file_extension": ".py",
   "mimetype": "text/x-python",
   "name": "python",
   "nbconvert_exporter": "python",
   "pygments_lexer": "ipython3",
   "version": "3.10.2"
  },
  "orig_nbformat": 4
 },
 "nbformat": 4,
 "nbformat_minor": 2
}
