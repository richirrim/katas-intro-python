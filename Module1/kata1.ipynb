{
 "cells": [
  {
   "cell_type": "markdown",
   "metadata": {},
   "source": [
    "# Fecha actual\n",
    "\n",
    "Programa que muestra la fecha actual."
   ]
  },
  {
   "cell_type": "code",
   "execution_count": 1,
   "metadata": {},
   "outputs": [
    {
     "name": "stdout",
     "output_type": "stream",
     "text": [
      "Fecha actual, panita: 2022-02-08\n"
     ]
    }
   ],
   "source": [
    "from datetime import date\n",
    "\n",
    "print(\"Fecha actual, panita: \" + str(date.today()))"
   ]
  },
  {
   "cell_type": "markdown",
   "metadata": {},
   "source": [
    "# Convertidor de unidades"
   ]
  },
  {
   "cell_type": "code",
   "execution_count": 2,
   "metadata": {},
   "outputs": [
    {
     "name": "stdout",
     "output_type": "stream",
     "text": [
      "11 parsecs son 35.88 años luz.\n"
     ]
    }
   ],
   "source": [
    "parsec = input(\"Ingresa la cantidad de parsecs: \")\n",
    "light_years = 0 \n",
    "\n",
    "try:\n",
    "    int(parsec)\n",
    "    parsec = abs(int(parsec))\n",
    "    lightyears = round(parsec * 3.26156, 2)\n",
    "    print(f\"{parsec} parsecs son {lightyears} años luz.\")\n",
    "except ValueError:\n",
    "    print(\"Ingrese solo números enteros y positivos.\")"
   ]
  }
 ],
 "metadata": {
  "interpreter": {
   "hash": "090873520ddd6f2229e6e813a562003f0c08106223b8ccfbf9a1dde699f8c00f"
  },
  "kernelspec": {
   "display_name": "Python 3.9.10 64-bit (windows store)",
   "language": "python",
   "name": "python3"
  },
  "language_info": {
   "codemirror_mode": {
    "name": "ipython",
    "version": 3
   },
   "file_extension": ".py",
   "mimetype": "text/x-python",
   "name": "python",
   "nbconvert_exporter": "python",
   "pygments_lexer": "ipython3",
   "version": "3.10.2"
  },
  "orig_nbformat": 4
 },
 "nbformat": 4,
 "nbformat_minor": 2
}
