{
 "cells": [
  {
   "cell_type": "markdown",
   "metadata": {},
   "source": [
    "# La distancia entre dos planetas\n",
    "\n",
    "### Ejercicio 1"
   ]
  },
  {
   "cell_type": "code",
   "execution_count": 3,
   "metadata": {},
   "outputs": [
    {
     "name": "stdout",
     "output_type": "stream",
     "text": [
      "La distancia entre los dos planetas es: -628949330 millas\n"
     ]
    }
   ],
   "source": [
    "# Crear variables para almacenar las dos distancias\n",
    "distance_planet_one = 149597870 # km\n",
    "distance_planet_two = 778547200  # km\n",
    "\n",
    "# Calcular la distancia entre planetas\n",
    "distance_km = distance_planet_one - distance_planet_two #output: en km.\n",
    "distance_millas = distance_km * 0.621 #output: en millas.\n",
    "\n",
    "print(f'La distancia entre los dos planetas es: {distance_km} millas')"
   ]
  },
  {
   "cell_type": "markdown",
   "metadata": {},
   "source": [
    "Pero también se podria ahorrar una línea y el code seria siendo legible.\n",
    "```python\n",
    "distance_millas = (distance_planet_one - distance_planet_two) * 0.621\n",
    "```"
   ]
  },
  {
   "cell_type": "markdown",
   "metadata": {},
   "source": [
    "### Ejercicio 2"
   ]
  },
  {
   "cell_type": "code",
   "execution_count": 4,
   "metadata": {},
   "outputs": [
    {
     "name": "stdout",
     "output_type": "stream",
     "text": [
      "La distancia entre los dos planetas es: 628949330 millas\n"
     ]
    }
   ],
   "source": [
    "# Almacenar las entradas del usuario.\n",
    "distance_planet_one = input('Ingresa el número del primer planeta: ')\n",
    "distance_planet_two = input('Ingresa el número del segundo planeta: ')\n",
    "\n",
    "# Convierte las cadenas de ambos planetas a números enteros.\n",
    "distance_planet_one = int(distance_planet_one)\n",
    "distance_planet_two = int(distance_planet_two)\n",
    "\n",
    "# Realizar el cálculo y determinar el valor absoluto\n",
    "distance_km = abs(distance_planet_one - distance_planet_two) #output: en km.\n",
    "\n",
    "# Convertir de KM a Millas\n",
    "distance_millas = abs(distance_km * 0.621) #output: en millas.\n",
    "\n",
    "print(f'La distancia entre los dos planetas es: {distance_km} millas')\n"
   ]
  },
  {
   "cell_type": "markdown",
   "metadata": {},
   "source": [
    "También se podria hacer en una misma línea la entrada y la conversión.\n",
    "\n",
    "```python  \n",
    "planet_one = int(input(\"Ingresa el número del primer planeta: \"))\n",
    "planet_two = int(input(\"Ingresa el número del segundo planeta: \"))\n",
    "```"
   ]
  },
  {
   "cell_type": "markdown",
   "metadata": {},
   "source": [
    "Como en el anterior caso también se podria ahorrar una línea y el code seria siendo legible.\n",
    "```python\n",
    "distance_millas = abs((distance_planet_one - distance_planet_two)) * 0.621\n",
    "```"
   ]
  },
  {
   "cell_type": "markdown",
   "metadata": {},
   "source": [
    "### Dejando volar mi creatividad"
   ]
  },
  {
   "cell_type": "code",
   "execution_count": 1,
   "metadata": {},
   "outputs": [
    {
     "name": "stdout",
     "output_type": "stream",
     "text": [
      "Planetas | Kilómotros\n",
      "------------------------------\n",
      "Mercurio: 57900000 \t\n",
      "------------------------------\n",
      "Venus: 108200000 \t\n",
      "------------------------------\n",
      "Tierra: 149600000 \t\n",
      "------------------------------\n",
      "Marte: 227900000 \t\n",
      "------------------------------\n",
      "Júpiter: 778600000 \t\n",
      "------------------------------\n",
      "Saturno: 1433500000 \t\n",
      "------------------------------\n",
      "Urano: 2872500000 \t\n",
      "------------------------------\n",
      "Nepturno: 4495100000 \t\n",
      "------------------------------\n",
      "\n",
      "la distancia entre Mercurio y Venus es: 31236300.0 millas\n"
     ]
    }
   ],
   "source": [
    "planet_name1 = ''\n",
    "planet_name2 = ''\n",
    "planets = {\n",
    "   'Mercurio': { 'id': 1, 'distance': 57900000 },\n",
    "   'Venus': { 'id': 2, 'distance': 108200000 },\n",
    "   'Tierra': {'id': 3, 'distance': 149600000 },\n",
    "   'Marte': { 'id': 4, 'distance': 227900000 },\n",
    "   'Júpiter': { 'id': 5, 'distance': 778600000 },\n",
    "   'Saturno': { 'id': 6, 'distance': 1433500000 },\n",
    "   'Urano': { 'id': 7, 'distance': 2872500000 },\n",
    "   'Nepturno': { 'id': 8, 'distance': 4495100000 }\n",
    "}\n",
    "\n",
    "# Crea tabla de distancias entre el sol y los planetas.\n",
    "template_distances = f'Planetas | Kilómotros\\n{\"-\"*30}\\n'\n",
    "for planet, distance in planets.items():\n",
    "   template_distances += f\"\"\"{planet}: {distance['distance']} \\t\\n{\"-\"*30}\\n\"\"\"\n",
    "\n",
    "print(template_distances)\n",
    "\n",
    "planet_one = int(input('Ingresa el número del primer planeta: '))\n",
    "planet_two = int(input('Ingresa el número del segundo planeta: '))\n",
    "\n",
    "# Obtiene la distancia de los planetas seleccionados.\n",
    "for planet, distance in planets.items():\n",
    "   if distance['id'] == planet_one:\n",
    "      planet_name1 = distance['distance']\n",
    "      planet_one = planet # Obtiene el nombre del planeta_one.\n",
    "      for planet, distance in planets.items():\n",
    "         if distance['id'] == planet_two:\n",
    "            planet_name2 =  distance['distance']\n",
    "            planet_two = planet # Obtiene el nombre del planeta_two.\n",
    "   \n",
    "distance_km = abs((planet_name1 - planet_name2) * 0.621)\n",
    "\n",
    "print(f'La distancia entre el planeta {planet_one} y {planet_two} es: {distance_km} millas')\n",
    "   "
   ]
  }
 ],
 "metadata": {
  "interpreter": {
   "hash": "b89b5cfaba6639976dc87ff2fec6d58faec662063367e2c229c520fe71072417"
  },
  "kernelspec": {
   "display_name": "Python 3.10.2 64-bit",
   "language": "python",
   "name": "python3"
  },
  "language_info": {
   "codemirror_mode": {
    "name": "ipython",
    "version": 3
   },
   "file_extension": ".py",
   "mimetype": "text/x-python",
   "name": "python",
   "nbconvert_exporter": "python",
   "pygments_lexer": "ipython3",
   "version": "3.10.2"
  },
  "orig_nbformat": 4
 },
 "nbformat": 4,
 "nbformat_minor": 2
}
