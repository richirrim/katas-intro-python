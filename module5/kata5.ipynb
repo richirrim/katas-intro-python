{
 "cells": [
  {
   "cell_type": "markdown",
   "metadata": {},
   "source": [
    "# La distancia entre dos planetas"
   ]
  },
  {
   "cell_type": "code",
   "execution_count": 68,
   "metadata": {},
   "outputs": [
    {
     "name": "stdout",
     "output_type": "stream",
     "text": [
      "   Planetas | Kilómotros\n",
      "------------------------------\n",
      "   Mercurio: 57.91 \t\n",
      "------------------------------\n",
      "   Venus: 108.2 \t\n",
      "------------------------------\n",
      "   Tierra: 146.6 \t\n",
      "------------------------------\n",
      "   Marte: 227.94 \t\n",
      "------------------------------\n",
      "   Júpiter: 778.33 \t\n",
      "------------------------------\n",
      "   Saturno: 1.429 \t\n",
      "------------------------------\n",
      "   Urano: 2.87 \t\n",
      "------------------------------\n",
      "   Nepturno: 4.504 \t\n",
      "------------------------------\n",
      "\n",
      "la distancia entre Tierra y Júpiter es: 392.30433 millas\n"
     ]
    }
   ],
   "source": [
    "message_result = ''\n",
    "planet_name1 = ''\n",
    "planet_name2 = ''\n",
    "planets = {\n",
    "   'Mercurio': { 'id': 1, 'distance': 57900000 },\n",
    "   'Venus': { 'id': 2, 'distance': 108200000 },\n",
    "   'Tierra': {'id': 3, 'distance': 149600000 },\n",
    "   'Marte': { 'id': 4, 'distance': 227900000 },\n",
    "   'Júpiter': { 'id': 5, 'distance': 778600000 },\n",
    "   'Saturno': { 'id': 6, 'distance': 1433500000 },\n",
    "   'Urano': { 'id': 7, 'distance': 2872500000 },\n",
    "   'Nepturno': { 'id': 8, 'distance': 4495100000 }\n",
    "}\n",
    "\n",
    "# Crea plantilla de las distancia entre el sol y los planetas.\n",
    "template_distances = f'   Planetas | Kilómotros\\n{\"-\"*30}\\n'\n",
    "for planet, distance in planets.items():\n",
    "   template_distances += f\"\"\"   {planet}: {distance['distance']} \\t\\n{\"-\"*30}\\n\"\"\"\n",
    "\n",
    "print(template_distances)\n",
    "\n",
    "planet_one = int(input(\"Ingresa el número del primer planet: \"))\n",
    "planet_two = int(input(\"Ingresa el número del primer planet: \"))\n",
    "\n",
    "# Obtiene la distancia de los planetas seleccionados.\n",
    "for planet, distance in planets.items():\n",
    "   if distance['id'] == planet_one:\n",
    "      planet_name1 = distance['distance']\n",
    "      for planet, distance in planets.items():\n",
    "         if distance['id'] == planet_two:\n",
    "            planet_name2 =  distance['distance']\n",
    "   \n",
    "distance_km = abs((planet_name1 - planet_name2) * 0.621)\n",
    "\n",
    "# Obtiene el nombre del planeta.\n",
    "for planet, distance in planets.items():\n",
    "   if distance['id'] == planet_one:\n",
    "      planet_one = planet\n",
    "      for planet, distance in planets.items():\n",
    "         if distance['id'] == planet_two:\n",
    "            planet_two = planet\n",
    "\n",
    "print(f'la distancia entre {planet_one} y {planet_two} es: {distance_km} millas')\n",
    "   "
   ]
  }
 ],
 "metadata": {
  "interpreter": {
   "hash": "b89b5cfaba6639976dc87ff2fec6d58faec662063367e2c229c520fe71072417"
  },
  "kernelspec": {
   "display_name": "Python 3.10.2 64-bit",
   "language": "python",
   "name": "python3"
  },
  "language_info": {
   "codemirror_mode": {
    "name": "ipython",
    "version": 3
   },
   "file_extension": ".py",
   "mimetype": "text/x-python",
   "name": "python",
   "nbconvert_exporter": "python",
   "pygments_lexer": "ipython3",
   "version": "3.10.2"
  },
  "orig_nbformat": 4
 },
 "nbformat": 4,
 "nbformat_minor": 2
}
