{
 "cells": [
  {
   "cell_type": "markdown",
   "metadata": {},
   "source": [
    "# Creando enteronos virtuales\n",
    "\n",
    "Me tope con  varios problemas al empezar con esta kata pero \n",
    "todos los problemas eran causados por las distintas versiones que \n",
    "tenia de Python. Al desintalar todas las versiones y proceder a instalar \n",
    "solo la ultima versión, todos los pasos para crear entornos fuerón exitosos.\n",
    "\n",
    "Comando que funcionarón en w10 con la version 3.10.2\n",
    "- Crear entorno virtual:  `python -m venv env`\n",
    "- Activar entorno: `env\\Scripts\\activate`\n",
    "- Desactivar entorno: `deactivate`"
   ]
  }
 ],
 "metadata": {
  "language_info": {
   "name": "python"
  },
  "orig_nbformat": 4
 },
 "nbformat": 4,
 "nbformat_minor": 2
}
