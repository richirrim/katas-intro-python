{
 "cells": [
  {
   "cell_type": "markdown",
   "metadata": {},
   "source": [
    "# Tranformar cadenas"
   ]
  },
  {
   "cell_type": "code",
   "execution_count": null,
   "metadata": {},
   "outputs": [],
   "source": [
    "key_words = [\"temperature\", \"average\", \"distance\"]\n",
    "text = \"\"\"Interesting facts about the Moon. The Moon is Earth's only satellite. There are several interesting facts about the Moon and how it affects life here on Earth. \n",
    "On average, the Moon moves 4cm away from the Earth every year. This yearly drift is not significant enough to cause immediate effects on Earth. The highest daylight temperature of the Moon is 127 C.\"\"\"\n",
    "# keywords_found = []\n",
    "# keyword_found = False\n",
    "sentences = text.split('.')\n",
    "\n",
    "for sentence in sentences:\n",
    "    for key_word in key_words:\n",
    "        if sentence.find(key_word) != -1:\n",
    "            print(f\"Palabra clave: {key_word}\")\n",
    "            print(f\"Oracion: {sentence}\\n\")\n",
    "            keywords_found.append(key_word) \n",
    "            break\n",
    "\n",
    "# for key_word in key_words:\n",
    "#     for keyword_found in keywords_found:\n",
    "#         if keyword_found == key_word:\n",
    "#             keyword_found = True\n",
    "\n",
    "\n",
    "for sentence in sentences:\n",
    "    if \"C\" in sentence:\n",
    "        sentence = sentence.replace(\"C\", \"Celsius\")\n",
    "        print(f\"Se actualizo el prefijo 'C' a 'Celsius'\")\n",
    "        print(f\"Oración modificada: {sentence}\")\n",
    "        break"
   ]
  },
  {
   "cell_type": "markdown",
   "metadata": {},
   "source": [
    "# Formateando Cadenas"
   ]
  },
  {
   "cell_type": "code",
   "execution_count": null,
   "metadata": {},
   "outputs": [],
   "source": [
    "name = \"Moon\"\n",
    "gravity = 0.00162 # in kms\n",
    "planet = \"Earth\"\n",
    "\n",
    "template_title = f\"Gravity Facts about {name}\"\n",
    "template_facts = f\"\"\"Planet name: {planet}\n",
    "Gravity on {name}: {gravity * 1000} m/s2\n",
    "\"\"\"\n",
    "\n",
    "template_info = f\"\"\"\n",
    "{template_title}\n",
    "{\"-\"*40}\n",
    "{template_facts}\n",
    "\"\"\"\n",
    "print(template_info)\n"
   ]
  },
  {
   "cell_type": "code",
   "execution_count": 65,
   "metadata": {},
   "outputs": [
    {
     "name": "stdout",
     "output_type": "stream",
     "text": [
      "Gravity Facts about Ganymede\n",
      "Planet name: Mars\n",
      "--------------------------------------------\n",
      "Gravity on Ganymede: 1.4300000000000002 m/s2\n",
      "\n"
     ]
    }
   ],
   "source": [
    "name = \"Ganymede\"\n",
    "gravity  = 0.00143\n",
    "planet = \"Mars\"\n",
    "\n",
    "template_info = \"\"\"Gravity Facts about {name}\n",
    "Planet name: {planet}\n",
    "--------------------------------------------\n",
    "Gravity on {name}: {gravity} m/s2\n",
    "\"\"\"\n",
    "\n",
    "print(template_info.format(\n",
    "    name=name, \n",
    "    gravity=gravity* 1000, \n",
    "    planet=planet\n",
    "))"
   ]
  }
 ],
 "metadata": {
  "interpreter": {
   "hash": "b89b5cfaba6639976dc87ff2fec6d58faec662063367e2c229c520fe71072417"
  },
  "kernelspec": {
   "display_name": "Python 3.10.2 64-bit",
   "language": "python",
   "name": "python3"
  },
  "language_info": {
   "codemirror_mode": {
    "name": "ipython",
    "version": 3
   },
   "file_extension": ".py",
   "mimetype": "text/x-python",
   "name": "python",
   "nbconvert_exporter": "python",
   "pygments_lexer": "ipython3",
   "version": "3.10.2"
  },
  "orig_nbformat": 4
 },
 "nbformat": 4,
 "nbformat_minor": 2
}
