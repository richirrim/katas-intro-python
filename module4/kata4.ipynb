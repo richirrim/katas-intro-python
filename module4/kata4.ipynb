{
 "cells": [
  {
   "cell_type": "markdown",
   "metadata": {},
   "source": [
    "# Tranformar cadenas\n",
    "\n",
    "### Ejercicio 1"
   ]
  },
  {
   "cell_type": "code",
   "execution_count": 1,
   "metadata": {},
   "outputs": [
    {
     "name": "stdout",
     "output_type": "stream",
     "text": [
      "Palabra clave: average\n",
      "Oracion:  \n",
      "On average, the Moon moves 4cm away from the Earth every year\n",
      "\n",
      "Palabra clave: temperature\n",
      "Oracion:  The highest daylight temperature of the Moon is 127 C\n",
      "\n",
      "Se actualizo el prefijo \"C\" a \"Celsius\"\n",
      "Oración modificada:  The highest daylight temperature of the Moon is 127 Celsius\n"
     ]
    }
   ],
   "source": [
    "text = \"\"\"Interesting facts about the Moon. The Moon is Earth's only satellite. There are several interesting facts about the Moon and how it affects life here on Earth. \n",
    "On average, the Moon moves 4cm away from the Earth every year. This yearly drift is not significant enough to cause immediate effects on Earth. The highest daylight temperature of the Moon is 127 C.\"\"\"\n",
    "\n",
    "# Partiendo el texto en oraciones.\n",
    "sentences = text.split('.')\n",
    "\n",
    "# Define las palabras pista: average, temperature y distance.\n",
    "key_words = ['temperature', 'average', 'distance']\n",
    "\n",
    "# Ciclo for para recorrer la cadena\n",
    "for sentence in sentences:\n",
    "    for key_word in key_words:\n",
    "        if sentence.find(key_word) != -1:\n",
    "            print(f'Palabra clave: {key_word}')\n",
    "            print(f'Oracion: {sentence}\\n')\n",
    "            break # Hace más obtimo el código.\n",
    "\n",
    "# Ciclo para cambiar C a Celsius\n",
    "for sentence in sentences:\n",
    "    if 'C' in sentence:\n",
    "        sentence = sentence.replace('C', 'Celsius')\n",
    "        print(f'Se actualizo el prefijo \"C\" a \"Celsius\"')\n",
    "        print(f'Oración modificada: {sentence}')\n",
    "        break"
   ]
  },
  {
   "cell_type": "markdown",
   "metadata": {},
   "source": [
    "### Ejercicio 2"
   ]
  },
  {
   "cell_type": "code",
   "execution_count": 2,
   "metadata": {},
   "outputs": [
    {
     "name": "stdout",
     "output_type": "stream",
     "text": [
      "\n",
      "Gravity Facts about Moon\n",
      "----------------------------------------\n",
      "\n",
      "Planet name: Earth\n",
      "Gravity on Moon: 1.6199999999999999 m/s2\n",
      "\n",
      "\n",
      "\n",
      "Gravity Facts about Moon\n",
      "----------------------------------------\n",
      "\n",
      "Planet name: Earth\n",
      "Gravity on Moon: 1.6199999999999999 m/s2\n",
      "\n",
      "\n"
     ]
    }
   ],
   "source": [
    "# Datos con los que vas a trabajar.\n",
    "name = 'Moon'\n",
    "gravity = 0.00162 # in kms\n",
    "planet = 'Earth'\n",
    "\n",
    "# Creamos el título.\n",
    "template_title = f'Gravity Facts about {name}'\n",
    "\n",
    "# Creamos la plantilla.\n",
    "template_facts = f\"\"\"\n",
    "Planet name: {planet}\n",
    "Gravity on {name}: {gravity * 1000} m/s2\n",
    "\"\"\"\n",
    "\n",
    "# Unión de ambas cadenas\n",
    "template_info = f\"\"\"\n",
    "{template_title}\n",
    "{\"-\"*40}\n",
    "{template_facts}\n",
    "\"\"\"\n",
    "print(template_info)\n",
    "\n",
    "# Nuevos datos muestra\n",
    "planeta = 'Marte '\n",
    "gravedad  = 0.00143\n",
    "nombre = 'Ganímedes'\n",
    "\n",
    "# Comprobamos la plantilla\n",
    "print(template_info) #output, no es lo esperado."
   ]
  },
  {
   "cell_type": "markdown",
   "metadata": {},
   "source": [
    "Refactorizando el códgio para que las variables se puedan volver a reasignar."
   ]
  },
  {
   "cell_type": "code",
   "execution_count": 6,
   "metadata": {},
   "outputs": [
    {
     "name": "stdout",
     "output_type": "stream",
     "text": [
      "\n",
      "Gravity Facts about Ganymede\n",
      "Planet name: Mars\n",
      "--------------------------------------------\n",
      "Gravity on Ganymede: 1.4300000000000002 m/s2\n",
      "\n",
      "\n",
      "Gravity Facts about Moon\n",
      "Planet name: Earth\n",
      "--------------------------------------------\n",
      "Gravity on Moon: 1.6199999999999999 m/s2\n",
      "\n"
     ]
    }
   ],
   "source": [
    "name = \"Ganymede\"\n",
    "gravity  = 0.00143\n",
    "planet = \"Mars\"\n",
    "\n",
    "# Nueva plantilla\n",
    "template_info = \"\"\"\n",
    "Gravity Facts about {name}\n",
    "--------------------------------------------\n",
    "Planet name: {planet}\n",
    "Gravity on {name}: {gravity} m/s2\n",
    "\"\"\"\n",
    "\n",
    "\n",
    "# Comprobamos la plantilla\n",
    "print(template_info.format(\n",
    "    name=name, \n",
    "    gravity=gravity* 1000, \n",
    "    planet=planet\n",
    "))\n",
    "\n",
    "# Nuevos datos muestra\n",
    "name = \"Moon\"\n",
    "gravity = 0.00162 # in kms\n",
    "planet = \"Earth\"\n",
    "\n",
    "# Comprobamos la plantilla\n",
    "print(template_info.format(\n",
    "    name=name, \n",
    "    gravity=gravity* 1000, \n",
    "    planet=planet\n",
    "))"
   ]
  }
 ],
 "metadata": {
  "interpreter": {
   "hash": "b89b5cfaba6639976dc87ff2fec6d58faec662063367e2c229c520fe71072417"
  },
  "kernelspec": {
   "display_name": "Python 3.10.2 64-bit",
   "language": "python",
   "name": "python3"
  },
  "language_info": {
   "codemirror_mode": {
    "name": "ipython",
    "version": 3
   },
   "file_extension": ".py",
   "mimetype": "text/x-python",
   "name": "python",
   "nbconvert_exporter": "python",
   "pygments_lexer": "ipython3",
   "version": "3.10.2"
  },
  "orig_nbformat": 4
 },
 "nbformat": 4,
 "nbformat_minor": 2
}
