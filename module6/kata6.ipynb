{
 "cells": [
  {
   "cell_type": "markdown",
   "metadata": {},
   "source": [
    "# Listas"
   ]
  },
  {
   "cell_type": "markdown",
   "metadata": {},
   "source": [
    "## Creando y manipulando listas"
   ]
  },
  {
   "cell_type": "code",
   "execution_count": 50,
   "metadata": {},
   "outputs": [
    {
     "name": "stdout",
     "output_type": "stream",
     "text": [
      "Total de planetas en la lista: 8\n",
      "El ultimo planeta de la lista es: pluton\n"
     ]
    }
   ],
   "source": [
    "# Creamos la lista planets y la mostramos.\n",
    "planets = ['Mercury', 'Venus', 'Earth', 'Mars', 'Jupiter', 'Saturn', 'Uranus', 'Neptune']\n",
    "\n",
    "print(f'Total de planetas en la lista: {len(planets)}') \n",
    "\n",
    "# Agregamos a plutón y mostramos el último elemento.\n",
    "planets.append('pluton').title() # Agrega plunton al final de la lista.\n",
    "\n",
    "# Muestra el ultimo elemento de la lista.\n",
    "print(f'El ultimo planeta de la lista es: {planets[-1]}')\n"
   ]
  },
  {
   "cell_type": "markdown",
   "metadata": {},
   "source": [
    "## Obteniendo los planetas más sercano o lejanos al sol"
   ]
  },
  {
   "cell_type": "code",
   "execution_count": 3,
   "metadata": {},
   "outputs": [
    {
     "name": "stdout",
     "output_type": "stream",
     "text": [
      "La pocisión o index del planeta es: 3\n",
      "Los planetas más sercanos son: ['Mercury', 'Venus', 'Earth']\n",
      "Los planetas más lejanos son: ['Jupiter', 'Saturn', 'Neptune']\n"
     ]
    }
   ],
   "source": [
    "# Lista de planetas.\n",
    "planet = ['Mercury', 'Venus', 'Earth', 'Mars', 'Jupiter', 'Saturn', 'Neptune']\n",
    "\n",
    "# Solicitamos el nombre de un planeta.\n",
    "# Formatea el dato introducido por el user para evitar errores.\n",
    "planet_name = input(\"Ingresa el nombre del planeta.\").lower().title()\n",
    "\n",
    "# Busca el planeta en la lista\n",
    "planet_position = planet.index(planet_name)\n",
    "print(f'La pocisión o index del planeta es: {planet_position}')\n",
    "\n",
    "# Muestra los planetas más cercanos y lejanos al sol.\n",
    "print(f'Los planetas más sercanos son: {planet[0:planet_position]}')\n",
    "print(f'Los planetas más lejanos son: {planet[planet_position+1:] }')\n"
   ]
  }
 ],
 "metadata": {
  "interpreter": {
   "hash": "b89b5cfaba6639976dc87ff2fec6d58faec662063367e2c229c520fe71072417"
  },
  "kernelspec": {
   "display_name": "Python 3.10.2 64-bit",
   "language": "python",
   "name": "python3"
  },
  "language_info": {
   "codemirror_mode": {
    "name": "ipython",
    "version": 3
   },
   "file_extension": ".py",
   "mimetype": "text/x-python",
   "name": "python",
   "nbconvert_exporter": "python",
   "pygments_lexer": "ipython3",
   "version": "3.10.2"
  },
  "orig_nbformat": 4
 },
 "nbformat": 4,
 "nbformat_minor": 2
}
