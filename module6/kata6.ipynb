{
 "cells": [
  {
   "cell_type": "markdown",
   "metadata": {},
   "source": [
    "# Listas"
   ]
  },
  {
   "cell_type": "markdown",
   "metadata": {},
   "source": [
    "## Creando y manipulando listas"
   ]
  },
  {
   "cell_type": "code",
   "execution_count": 50,
   "metadata": {},
   "outputs": [
    {
     "name": "stdout",
     "output_type": "stream",
     "text": [
      "Total de planetas en la lista: 8\n",
      "El ultimo planeta de la lista es: pluton\n"
     ]
    }
   ],
   "source": [
    "planets = ['Mercury', 'Venus', 'Earth', 'Mars', 'Jupiter', 'Saturn', 'Uranus', 'Neptune']\n",
    "\n",
    "print(f'Total de planetas en la lista: {len(planets)}')\n",
    "\n",
    "# Agrega plunto a la lista.\n",
    "planets.append('pluton')\n",
    "\n",
    "# Muestra el ultimo elemento de la lista.\n",
    "print(f'El ultimo planeta de la lista es: {planets[-1]}')\n"
   ]
  },
  {
   "cell_type": "markdown",
   "metadata": {},
   "source": [
    "## Obteniendo los planetas más sercano o lejanos al sol"
   ]
  },
  {
   "cell_type": "code",
   "execution_count": 49,
   "metadata": {},
   "outputs": [
    {
     "name": "stdout",
     "output_type": "stream",
     "text": [
      "3\n",
      "Los planetas más sercanos son: ['Mercury', 'Venus', 'Earth']\n",
      "Los planetas más lejanos son: ['Jupiter', 'Saturn', 'Neptune']\n"
     ]
    }
   ],
   "source": [
    "# Lista de planetas\n",
    "planet = ['Mercury', 'Venus', 'Earth', 'Mars', 'Jupiter', 'Saturn', 'Neptune']\n",
    "\n",
    "# Formatea el dato introducido por el user para evitar errores.\n",
    "planet_name = input(\"Ingresa el nombre del planeta.\").lower().title()\n",
    "planet_position = planet.index(planet_name)\n",
    "\n",
    "# Busca el planeta en la lista\n",
    "print(planet.index(planet_name))\n",
    "\n",
    "# Muestra los planetas más cercanos al sol\n",
    "print(f'Los planetas más sercanos son: {planet[0:planet_position]}')\n",
    "print(f'Los planetas más lejanos son: {planet[planet_position+1:] }')\n"
   ]
  }
 ],
 "metadata": {
  "interpreter": {
   "hash": "b89b5cfaba6639976dc87ff2fec6d58faec662063367e2c229c520fe71072417"
  },
  "kernelspec": {
   "display_name": "Python 3.10.2 64-bit",
   "language": "python",
   "name": "python3"
  },
  "language_info": {
   "codemirror_mode": {
    "name": "ipython",
    "version": 3
   },
   "file_extension": ".py",
   "mimetype": "text/x-python",
   "name": "python",
   "nbconvert_exporter": "python",
   "pygments_lexer": "ipython3",
   "version": "3.10.2"
  },
  "orig_nbformat": 4
 },
 "nbformat": 4,
 "nbformat_minor": 2
}
