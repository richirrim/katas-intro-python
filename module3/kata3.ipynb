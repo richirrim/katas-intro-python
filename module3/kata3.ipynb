{
 "cells": [
  {
   "cell_type": "markdown",
   "metadata": {},
   "source": [
    "# Programa del asteoroide\n",
    "\n",
    "### Ejercicio 1\n",
    "#### Problema 1"
   ]
  },
  {
   "cell_type": "code",
   "execution_count": 1,
   "metadata": {},
   "outputs": [
    {
     "name": "stdout",
     "output_type": "stream",
     "text": [
      "Un asteroide se acerca, y viaja a una velocidad de 49 km/s.\n"
     ]
    }
   ],
   "source": [
    "# Añadir el código necesario para crear una variable que guarde la velocidad del asteroide.\n",
    "current_speed_asteroid = 49 # KM/S\n",
    "SPEED_RED_FLAG = 25 # Alerta si es mayor a esta velocidad.\n",
    "\n",
    "# Escribe una expresión de prueba para calcular si necesita una advertencia.\n",
    "if (current_speed_asteroid > SPEED_RED_FLAG):\n",
    "    print(f'Un asteroide se acerca, y viaja a una velocidad de {current_speed_asteroid} km/s.')\n",
    "else:\n",
    "    print('F, continua y sigue sonriendo:)') \n",
    "\n"
   ]
  },
  {
   "cell_type": "markdown",
   "metadata": {},
   "source": [
    "#### Problema 2"
   ]
  },
  {
   "cell_type": "code",
   "execution_count": 2,
   "metadata": {},
   "outputs": [
    {
     "name": "stdout",
     "output_type": "stream",
     "text": [
      "F, aun no se puede ver el rayo de luz.\n"
     ]
    }
   ],
   "source": [
    "# Agrega el código para crear una variable para un asteroide que viaja a 19 km/s\n",
    "current_speed_asteroid = 19 # KM/S\n",
    "SPEED_RED_FLAG = 20 # Alerta si es mayor a esta velocidad.\n",
    "\n",
    "# Escribe varias expresiones de prueba para determinar si puedes ver el rayo de luz desde la tierra.\n",
    "if (current_speed_asteroid >= SPEED_RED_FLAG):\n",
    "    print(f'Terricolas miren arriba, sí, así se ve el rayo de luz que produce un asteroide.')\n",
    "else:\n",
    "    print(f'F, aun no se puede ver el rayo de luz.')"
   ]
  },
  {
   "cell_type": "markdown",
   "metadata": {},
   "source": [
    "#### Problema 3"
   ]
  },
  {
   "cell_type": "code",
   "execution_count": 2,
   "metadata": {},
   "outputs": [
    {
     "name": "stdout",
     "output_type": "stream",
     "text": [
      "Terriculas, hay peligro. Un asteroid de 40 metros se aserca y si miran arriba probablemente pueda ver su rayo de luz, F.\n"
     ]
    }
   ],
   "source": [
    "# Agrega el código para crear nuevas variables para la velocidad y el tamaño del asteroide\n",
    "SIZE_RED_FLAG = 25 # Alerta, si el asteroide es mayor.\n",
    "SPEED_RED_FLAG = 25 # Alerta si es mayor a esta velocidad.\n",
    "current_speed_asteroid = 25 # KM/S\n",
    "current_size_asteroid = 40\n",
    "\n",
    "# Escribe varias expresiones de prueba o combinaciones de expresiones \n",
    "# de prueba para determinar qué mensaje se debe enviar a Tierra.\n",
    "if (current_speed_asteroid >= SPEED_RED_FLAG and current_size_asteroid >= SIZE_RED_FLAG):\n",
    "    print(f'Terriculas, hay peligro. Un asteroid de {current_size_asteroid} metros se aserca y si miran arriba probablemente pueda ver su rayo de luz, F.')\n",
    "elif (current_speed_asteroid >= SPEED_RED_FLAG):\n",
    "    print(f'Terricolas ya se ve el rayo de luz del asteroide. Y traquilos el tamaño es {current_size_asteroid}, es decir, no hay riesgo de impacto')\n",
    "elif (current_size_asteroid >= SIZE_RED_FLAG):\n",
    "    print(f'Terricolas, detectamos un asteroide {SIZE_RED_FLAG} metros, pero tranaqui, puede ser peligroso solo si se llega a asercar a la tierra.')\n",
    "else:\n",
    "    print('Sigue con tu día no hay nada nuevo que ver ahí arriba.')\n",
    "\n"
   ]
  }
 ],
 "metadata": {
  "interpreter": {
   "hash": "b89b5cfaba6639976dc87ff2fec6d58faec662063367e2c229c520fe71072417"
  },
  "kernelspec": {
   "display_name": "Python 3.10.2 64-bit",
   "language": "python",
   "name": "python3"
  },
  "language_info": {
   "codemirror_mode": {
    "name": "ipython",
    "version": 3
   },
   "file_extension": ".py",
   "mimetype": "text/x-python",
   "name": "python",
   "nbconvert_exporter": "python",
   "pygments_lexer": "ipython3",
   "version": "3.10.2"
  },
  "orig_nbformat": 4
 },
 "nbformat": 4,
 "nbformat_minor": 2
}
