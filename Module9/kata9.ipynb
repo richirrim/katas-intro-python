{
 "cells": [
  {
   "cell_type": "markdown",
   "metadata": {},
   "source": [
    "### Ejercicio 1: Trabajar con argumentos en funciones"
   ]
  },
  {
   "cell_type": "code",
   "execution_count": 8,
   "metadata": {},
   "outputs": [
    {
     "name": "stdout",
     "output_type": "stream",
     "text": [
      "\n",
      "        Informe de combustible del transbordador espacial\n",
      "        ------------------------------------------------------------\n",
      "        Tanque Externo (ET): 80\n",
      "        Tanque principal: 50\n",
      "        Tanque de hidrógeno: 60\n",
      "        Promedio: 63.333333333333336\n",
      "    \n",
      "None\n"
     ]
    }
   ],
   "source": [
    "# Función para leer 3 tanques de combustible y muestre el promedio\n",
    "def fuel_tanks_report(external_tank, main_tank, hydrogen_tank):\n",
    "    print(f\"\"\"\n",
    "        Informe de combustible del transbordador espacial\n",
    "        {'-'*60}\n",
    "        Tanque Externo (ET): {external_tank}%\n",
    "        Tanque principal: {main_tank}%\n",
    "        Tanque de hidrógeno: {hydrogen_tank}%\n",
    "        Promedio: { (external_tank + main_tank + hydrogen_tank) / 3}\n",
    "    \"\"\")\n",
    "\n",
    "# Llamamos a la función que genera el reporte print(funcion(tanque1, tanque2, tanque3))\n",
    "print(fuel_tanks_report(80, 50, 60))"
   ]
  },
  {
   "cell_type": "code",
   "execution_count": 12,
   "metadata": {},
   "outputs": [
    {
     "name": "stdout",
     "output_type": "stream",
     "text": [
      "\n",
      "        Informe de combustible del transbordador espacial\n",
      "        ------------------------------------------------------------\n",
      "        Tanque Externo (ET): 80%\n",
      "        Tanque principal: 70%\n",
      "        Tanque de hidrógeno: 55%\n",
      "        Promedio: 68.33333333333333\n",
      "    \n"
     ]
    }
   ],
   "source": [
    "# Función promedio\n",
    "def average_fuel(values_tanks):\n",
    "    average = sum(values_tanks) /  len(values_tanks)\n",
    "    return average\n",
    "\n",
    "# Actualiza la función\n",
    "def fuel_tanks_report(external_tank, main_tank, hydrogen_tank):\n",
    "    print(f\"\"\"\n",
    "        Informe de combustible del transbordador espacial\n",
    "        {'-'*60}\n",
    "        Tanque Externo (ET): {external_tank}%\n",
    "        Tanque principal: {main_tank}%\n",
    "        Tanque de hidrógeno: {hydrogen_tank}%\n",
    "        Promedio: {average_fuel([external_tank, main_tank, hydrogen_tank])}\n",
    "    \"\"\")\n",
    "\n",
    "fuel_tanks_report(80, 70, 55)\n"
   ]
  },
  {
   "cell_type": "markdown",
   "metadata": {},
   "source": [
    "### Ejercicio 2: Trabajo con argumentos de palabra clave"
   ]
  },
  {
   "cell_type": "code",
   "execution_count": 32,
   "metadata": {},
   "outputs": [
    {
     "name": "stdout",
     "output_type": "stream",
     "text": [
      "\n",
      "        \t\tInforme del transbordador espacial\n",
      "        ------------------------------------------------------------\n",
      "        Destino: Luna\n",
      "        Tiempo estimado del viaje: 65 minutos\n",
      "        Combustible total: 230000 galones\n",
      "    \n"
     ]
    }
   ],
   "source": [
    "# Función con un informe preciso de la misión. Considera hora de prelanzamiento, tiempo de vuelo, destino, tanque externo y tanque interno\n",
    "def report_space_shuttle(pre_launch_time, flight_time, destination, external_tank, main_tank):\n",
    "    print(f\"\"\"\n",
    "        \\t\\tInforme del transbordador espacial\n",
    "        {'-'*60}\n",
    "        Destino: {destination}\n",
    "        Tiempo estimado del viaje: {pre_launch_time + flight_time} minutos\n",
    "        Combustible total: {external_tank + main_tank} galones\n",
    "    \"\"\")\n",
    "\n",
    "report_space_shuttle(14, 51, 'Luna', 200000, 30000)"
   ]
  },
  {
   "cell_type": "code",
   "execution_count": 31,
   "metadata": {},
   "outputs": [
    {
     "name": "stdout",
     "output_type": "stream",
     "text": [
      "\n",
      "        \t\tInforme del transbordador espacial\n",
      "        ------------------------------------------------------------\n",
      "        Destino: Marte\n",
      "        Tiempo estimado del viaje: 118 minutos\n",
      "        Combustible total: 495000 galones\n",
      "\n",
      "    \n"
     ]
    }
   ],
   "source": [
    "# Escribe tu nueva función de reporte considerando lo anterior.\n",
    "def report_space_shuttle(destination, *minutes, **fuel_tanks):\n",
    "    print(f\"\"\"\n",
    "        \\t\\tInforme del transbordador espacial\n",
    "        {'-'*60}\n",
    "        Destino: {destination}\n",
    "        Tiempo estimado del viaje: {sum(minutes)} minutos\n",
    "        Combustible total: {sum(fuel_tanks.values())} galones\\n\n",
    "    \"\"\")\n",
    "\n",
    "# report_space_shuttle('Luna', 14, 51, external_tank=200000, main_tank=30000)\n",
    "report_space_shuttle('Marte', 14, 104, external_tank=450000, main_tank=45000)"
   ]
  },
  {
   "cell_type": "code",
   "execution_count": 47,
   "metadata": {},
   "outputs": [
    {
     "name": "stdout",
     "output_type": "stream",
     "text": [
      "\n",
      "        \t\tInforme del transbordador espacial\n",
      "        ------------------------------------------------------------\n",
      "        Destino: Marte\n",
      "        Tiempo estimado del viaje: 118 minutos\n",
      "        Combustible total: 495000 galones\n",
      "\n",
      "        \t\t Informe sobre los tanques\n",
      "        ------------------------------------------------------------\n",
      "        external_tank: 450000 galones\n",
      "main_tank: 45000 galones\n",
      "\n",
      "    \n"
     ]
    }
   ],
   "source": [
    "# Escribe tu nueva función.\n",
    "def report_space_shuttle(destination, *minutes, **fuel_tanks):\n",
    "    tanks_info = ''\n",
    "\n",
    "    for name, gallons in fuel_tanks.items():\n",
    "        tanks_info += f\"{name}: {gallons} galones\\n\"\n",
    "        \n",
    "    report = f\"\"\"\n",
    "        \\t\\tInforme del transbordador espacial\n",
    "        {'-'*60}\n",
    "        Destino: {destination}\n",
    "        Tiempo estimado del viaje: {sum(minutes)} minutos\n",
    "        Combustible total: {sum(fuel_tanks.values())} galones\\n\n",
    "        \\t\\t Informe sobre los tanques\n",
    "        {'-'*60}\n",
    "        {tanks_info}\n",
    "    \"\"\"\n",
    "    return report\n",
    "\n",
    "print(report_space_shuttle('Marte', 14, 104, external_tank=450000, main_tank=45000))"
   ]
  }
 ],
 "metadata": {
  "interpreter": {
   "hash": "b89b5cfaba6639976dc87ff2fec6d58faec662063367e2c229c520fe71072417"
  },
  "kernelspec": {
   "display_name": "Python 3.10.2 64-bit",
   "language": "python",
   "name": "python3"
  },
  "language_info": {
   "codemirror_mode": {
    "name": "ipython",
    "version": 3
   },
   "file_extension": ".py",
   "mimetype": "text/x-python",
   "name": "python",
   "nbconvert_exporter": "python",
   "pygments_lexer": "ipython3",
   "version": "3.10.2"
  },
  "orig_nbformat": 4
 },
 "nbformat": 4,
 "nbformat_minor": 2
}
